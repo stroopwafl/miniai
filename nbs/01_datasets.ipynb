{
 "cells": [
  {
   "cell_type": "markdown",
   "id": "f2a8d7bc-dbd3-40e3-a64b-b7f8fd873fa0",
   "metadata": {},
   "source": [
    "# Datasets"
   ]
  },
  {
   "cell_type": "code",
   "execution_count": null,
   "id": "9b0e2909-ab62-4af2-a26d-9f754454ff6d",
   "metadata": {},
   "outputs": [],
   "source": [
    "#| default_exp datasets"
   ]
  },
  {
   "cell_type": "code",
   "execution_count": null,
   "id": "4ec23f77-9660-4b7e-bb64-53a2529cddc0",
   "metadata": {},
   "outputs": [],
   "source": [
    "#| export\n",
    "from torch.utils.data import DataLoader, default_collate\n",
    "from operator import itemgetter\n",
    "from fastcore import docments"
   ]
  },
  {
   "cell_type": "code",
   "execution_count": null,
   "id": "f4523254-e13f-4b00-b108-4921848853d9",
   "metadata": {},
   "outputs": [
    {
     "name": "stderr",
     "output_type": "stream",
     "text": [
      "Found cached dataset fashion_mnist (/Users/olly/.cache/huggingface/datasets/fashion_mnist/fashion_mnist/1.0.0/8d6c32399aa01613d96e2cbc9b13638f359ef62bb33612b077b4c247f6ef99c1)\n"
     ]
    },
    {
     "data": {
      "application/vnd.jupyter.widget-view+json": {
       "model_id": "196af06cdb604060a94fa9b4ae0dd459",
       "version_major": 2,
       "version_minor": 0
      },
      "text/plain": [
       "  0%|          | 0/2 [00:00<?, ?it/s]"
      ]
     },
     "metadata": {},
     "output_type": "display_data"
    }
   ],
   "source": [
    "#| hide\n",
    "from datasets import load_dataset, load_dataset_builder\n",
    "import torchvision.transforms as TF\n",
    "\n",
    "ds = load_dataset('fashion_mnist')"
   ]
  },
  {
   "cell_type": "markdown",
   "id": "1641ecc4-3e8d-434e-a1e1-cfa1165be029",
   "metadata": {},
   "source": [
    "## Convenience functions"
   ]
  },
  {
   "cell_type": "code",
   "execution_count": null,
   "id": "a7f20e11-56c4-427a-9d92-f702bd83dd4a",
   "metadata": {},
   "outputs": [],
   "source": [
    "#| export\n",
    "def inplace(f):\n",
    "    \"\"\"\n",
    "        Performs dataset operations in place. To be used as a\n",
    "        decorator\n",
    "    \"\"\"\n",
    "    def _f(b):\n",
    "        f(b)\n",
    "        return b\n",
    "    return _f"
   ]
  },
  {
   "cell_type": "code",
   "execution_count": null,
   "id": "e312451a-1e5e-41ac-9070-48eae589c4cd",
   "metadata": {},
   "outputs": [],
   "source": [
    "@inplace\n",
    "def transform(b): b['image'] = [TF.to_tensor(i) for i in b['image']]"
   ]
  },
  {
   "cell_type": "code",
   "execution_count": null,
   "id": "06bf4064-2358-4ed6-abb3-ff109b9b9ac7",
   "metadata": {},
   "outputs": [],
   "source": [
    "#| hide\n",
    "tds = ds.with_transform(transform)"
   ]
  },
  {
   "cell_type": "code",
   "execution_count": null,
   "id": "6360f18d-bc85-412f-b2f0-65732d7089f7",
   "metadata": {},
   "outputs": [],
   "source": [
    "#| export\n",
    "def collate_dict(ds):\n",
    "    \"\"\"\n",
    "        Takes a dataset dictionary and returns datasets as a tuple. Usually\n",
    "        used when calling the Pytorch DataLoader object.\n",
    "    \"\"\"\n",
    "    get = itemgetter(*ds.features)\n",
    "    def _f(b): return get(default_collate(b))\n",
    "    return _f"
   ]
  },
  {
   "cell_type": "markdown",
   "id": "449fb542-bcd7-45e0-8db0-fd18ff824308",
   "metadata": {},
   "source": [
    "## Dataloaders"
   ]
  },
  {
   "cell_type": "code",
   "execution_count": null,
   "id": "69f850a4-213b-4fba-9df8-d19ec55d4e12",
   "metadata": {},
   "outputs": [],
   "source": [
    "#| export\n",
    "class DataLoaders:\n",
    "    \"\"\"\n",
    "        Establishes DataLoader objects for training and validation sets,\n",
    "        and optionally returns them as a tuple.\n",
    "    \"\"\"\n",
    "    def __init__(\n",
    "        self, \n",
    "        *dsd # \n",
    "    ): \n",
    "        self.train, self.valid = dsd[:2]\n",
    "    \n",
    "    @classmethod\n",
    "    def from_dd(\n",
    "        cls, \n",
    "        dd, # Dataset dict object (works with hugging face datasets) \n",
    "        batch_size: int, # Batch size for the dataloader\n",
    "        as_tuple: bool=True # If true, returns a tuple of dataloaders like (train, valid)\n",
    "    ):\n",
    "        return cls(*[DataLoader(ds, batch_size, num_workers=4, collate_fn=collate_dict(ds) if as_tuple else default_collate) for ds in dd.values()])"
   ]
  },
  {
   "cell_type": "code",
   "execution_count": null,
   "id": "f0b8076a-1f7a-4323-82f9-6e5c4b0ad254",
   "metadata": {},
   "outputs": [],
   "source": [
    "#| hide\n",
    "import nbdev; nbdev.nbdev_export()"
   ]
  },
  {
   "cell_type": "code",
   "execution_count": null,
   "id": "11c4310a-e7aa-4300-a5ce-e3993c6944e0",
   "metadata": {},
   "outputs": [],
   "source": []
  }
 ],
 "metadata": {
  "kernelspec": {
   "display_name": "Python 3 (ipykernel)",
   "language": "python",
   "name": "python3"
  }
 },
 "nbformat": 4,
 "nbformat_minor": 5
}
