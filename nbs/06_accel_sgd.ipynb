{
 "cells": [
  {
   "cell_type": "markdown",
   "id": "5c4aa298-326b-4e83-a727-77e2371a87a2",
   "metadata": {},
   "source": [
    "# Accelerated SGD\n",
    "\n",
    "We can accelerate the process of stochastic gradient descent using a few tips and tricks."
   ]
  },
  {
   "cell_type": "code",
   "execution_count": null,
   "id": "8100440c-367b-40e1-9c24-617d1a186e3c",
   "metadata": {},
   "outputs": [],
   "source": [
    "#| default_exp accel"
   ]
  },
  {
   "cell_type": "code",
   "execution_count": null,
   "id": "4ee6a675-db83-4afd-be4b-4b589317dd09",
   "metadata": {},
   "outputs": [
    {
     "data": {
      "text/plain": [
       "<torch._C.Generator>"
      ]
     },
     "execution_count": null,
     "metadata": {},
     "output_type": "execute_result"
    }
   ],
   "source": [
    "#| export\n",
    "from __future__ import annotations\n",
    "import math, random, torch, matplotlib.pyplot as plt, numpy as np\n",
    "from pathlib import Path\n",
    "from operator import itemgetter\n",
    "from itertools import zip_longest\n",
    "from functools import partial\n",
    "import fastcore.all as fc\n",
    "\n",
    "from torch import tensor, nn, optim\n",
    "import torch.nn.functional as F\n",
    "from datasets import load_dataset\n",
    "from tqdm.auto import tqdm\n",
    "import torchvision.transforms.functional as TF\n",
    "from torch.optim import lr_scheduler\n",
    "\n",
    "from miniai.learner import *\n",
    "from miniai.datasets import *\n",
    "from miniai.conv import *\n",
    "from miniai.activations import *\n",
    "from miniai.core import *\n",
    "from miniai.initialisation import *\n",
    "\n",
    "import re\n",
    "from torcheval.metrics import MulticlassAccuracy\n",
    "\n",
    "torch.set_printoptions(precision=2, linewidth=140, sci_mode=False)\n",
    "torch.manual_seed(1)"
   ]
  },
  {
   "cell_type": "code",
   "execution_count": null,
   "id": "136ad8a9-edf8-466a-9e97-897841fae540",
   "metadata": {},
   "outputs": [
    {
     "name": "stderr",
     "output_type": "stream",
     "text": [
      "Found cached dataset fashion_mnist (/Users/olly/.cache/huggingface/datasets/fashion_mnist/fashion_mnist/1.0.0/8d6c32399aa01613d96e2cbc9b13638f359ef62bb33612b077b4c247f6ef99c1)\n"
     ]
    },
    {
     "data": {
      "application/vnd.jupyter.widget-view+json": {
       "model_id": "df3a0d7d075946ec9f863527d42f4d7b",
       "version_major": 2,
       "version_minor": 0
      },
      "text/plain": [
       "  0%|          | 0/2 [00:00<?, ?it/s]"
      ]
     },
     "metadata": {},
     "output_type": "display_data"
    },
    {
     "data": {
      "text/plain": [
       "(torch.Size([1024, 1, 28, 28]), torch.Size([1024]))"
      ]
     },
     "execution_count": null,
     "metadata": {},
     "output_type": "execute_result"
    }
   ],
   "source": [
    "name = 'fashion_mnist'\n",
    "ds = load_dataset(name)\n",
    "bs = 1024\n",
    "seed = 42\n",
    "\n",
    "@inplace\n",
    "def transform(b): b['image'] = [TF.to_tensor(o) for o in b['image']]\n",
    "\n",
    "tds = ds.with_transform(transform)\n",
    "dls = DataLoaders.from_dd(tds, bs, num_workers=4)\n",
    "train, valid = dls.train, dls.valid\n",
    "xb, yb = next(iter(train))\n",
    "xb.shape, yb.shape"
   ]
  },
  {
   "cell_type": "code",
   "execution_count": null,
   "id": "3b505bb2-2528-410f-9b93-0c8efdf2aaa2",
   "metadata": {},
   "outputs": [],
   "source": [
    "#| export\n",
    "def set_seed(seed, deterministic=False):\n",
    "    torch.use_deterministic_algorithms(deterministic)\n",
    "    torch.manual_seed(seed)\n",
    "    random.seed(seed)\n",
    "    np.random.seed(seed)"
   ]
  },
  {
   "cell_type": "code",
   "execution_count": null,
   "id": "17431020-a631-4a6e-9767-e644a9d58707",
   "metadata": {},
   "outputs": [],
   "source": [
    "def get_model(norm=nn.BatchNorm2d, act=GeneralReLU):\n",
    "    return nn.Sequential(\n",
    "        ConvNormAct(1, 8, norm=norm, act=act),                 #14x14\n",
    "        ConvNormAct(8, 16, norm=norm, act=act),                 #7x7\n",
    "        ConvNormAct(16, 32, norm=norm, act=act),                #4x4\n",
    "        ConvNormAct(32, 64, norm=norm, act=act),               #2x2\n",
    "        ConvNormAct(64, 10, act=None, norm=None),\n",
    "        nn.Flatten()\n",
    "    ).apply(partial(kaiming_init, leak=0.1))"
   ]
  },
  {
   "cell_type": "code",
   "execution_count": null,
   "id": "097931c6-81a5-4a86-9e38-fb8462c561ac",
   "metadata": {},
   "outputs": [],
   "source": [
    "cbs = [\n",
    "    DeviceCB(), \n",
    "    MetricsCB(accuracy=MulticlassAccuracy()), \n",
    "    ProgressCB(), \n",
    "    ActivationStats(append_stats, layer_filter=fc.risinstance(nn.Conv2d)),\n",
    "    BatchTransform(normalise_batch)\n",
    "]"
   ]
  },
  {
   "cell_type": "code",
   "execution_count": null,
   "id": "a12d3890-1bc4-4bf8-82a4-97adc8608b08",
   "metadata": {},
   "outputs": [
    {
     "data": {
      "text/html": [],
      "text/plain": [
       "<IPython.core.display.HTML object>"
      ]
     },
     "metadata": {},
     "output_type": "display_data"
    },
    {
     "data": {
      "text/html": [],
      "text/plain": [
       "<IPython.core.display.HTML object>"
      ]
     },
     "metadata": {},
     "output_type": "display_data"
    },
    {
     "data": {
      "text/html": [],
      "text/plain": [
       "<IPython.core.display.HTML object>"
      ]
     },
     "metadata": {},
     "output_type": "display_data"
    },
    {
     "name": "stdout",
     "output_type": "stream",
     "text": [
      "   Train loss  Valid loss  Accuracy\n",
      "0      0.7626      0.5452    0.8014\n"
     ]
    },
    {
     "data": {
      "text/html": [],
      "text/plain": [
       "<IPython.core.display.HTML object>"
      ]
     },
     "metadata": {},
     "output_type": "display_data"
    },
    {
     "data": {
      "text/html": [],
      "text/plain": [
       "<IPython.core.display.HTML object>"
      ]
     },
     "metadata": {},
     "output_type": "display_data"
    },
    {
     "name": "stdout",
     "output_type": "stream",
     "text": [
      "   Train loss  Valid loss  Accuracy\n",
      "1      0.4742       0.455    0.8369\n"
     ]
    },
    {
     "data": {
      "text/html": [],
      "text/plain": [
       "<IPython.core.display.HTML object>"
      ]
     },
     "metadata": {},
     "output_type": "display_data"
    },
    {
     "data": {
      "text/html": [],
      "text/plain": [
       "<IPython.core.display.HTML object>"
      ]
     },
     "metadata": {},
     "output_type": "display_data"
    },
    {
     "name": "stdout",
     "output_type": "stream",
     "text": [
      "   Train loss  Valid loss  Accuracy\n",
      "2      0.4189      0.4217    0.8464\n"
     ]
    }
   ],
   "source": [
    "model = get_model()\n",
    "learn = BaseLearner(dls, model, cbs=cbs, scheduler=None)\n",
    "learn.fit(0.2, 3)"
   ]
  },
  {
   "cell_type": "markdown",
   "id": "6449b9d6-9f0b-4aa8-a264-d027dd7d3bad",
   "metadata": {},
   "source": [
    "To include:\n",
    "    \n",
    "1. Weight decay\n",
    "2. Momentum\n",
    "3. RMSProp\n",
    "4. Adam\n",
    "5. LR schedulers"
   ]
  },
  {
   "cell_type": "markdown",
   "id": "3934a66d-242b-4a62-ad76-42ddf370e537",
   "metadata": {},
   "source": [
    "## Momentum\n",
    "\n",
    "In a traditional SGD process, the algorithm is highly responsive to the output of each batch. If the current batch has a wildly different mean or standard deviation from the previous batches, the gradient is going to be calculated according to that difference. This means that there will be a big update in the direction of the model.\n",
    "\n",
    "However, when traversing the loss surface, we are trying to discover a minimum without getting distracted by the ups and downs. Momentum is a mechanism for biasing the model towards the information it has accumulated so far, such that it does not react as violently to batches with a wildly different mean/std. The idea is that momentum enables the model to take a much smoother path through the loss surface, where there is a 'momentum' towards the accumulated direction.\n",
    "\n",
    "It achieves this by calculating an exponentially weighted average of the gradient at each step and storing this in a history.\n",
    "\n",
    "To start, let's begin with the traditional SGD optimiser."
   ]
  },
  {
   "cell_type": "code",
   "execution_count": null,
   "id": "1da9b2ef-b33c-43ba-adcf-28e6be534848",
   "metadata": {},
   "outputs": [],
   "source": [
    "class SGD:\n",
    "    def __init__(self, params, lr):\n",
    "        params = list(params)\n",
    "        fc.store_attr()\n",
    "        \n",
    "    def step(self):\n",
    "        with torch.no_grad():\n",
    "            for p in self.params: self.opt_step(p)\n",
    "            \n",
    "    def opt_step(self, p): p -= p.grad * self.lr\n",
    "    def zero_grad(self):\n",
    "        for p in self.params: p.grad.data.zero_()"
   ]
  },
  {
   "cell_type": "code",
   "execution_count": null,
   "id": "2cac3cf6-d56f-42d9-949d-dbfcd17a625f",
   "metadata": {},
   "outputs": [
    {
     "data": {
      "text/html": [],
      "text/plain": [
       "<IPython.core.display.HTML object>"
      ]
     },
     "metadata": {},
     "output_type": "display_data"
    },
    {
     "data": {
      "text/html": [],
      "text/plain": [
       "<IPython.core.display.HTML object>"
      ]
     },
     "metadata": {},
     "output_type": "display_data"
    },
    {
     "data": {
      "text/html": [],
      "text/plain": [
       "<IPython.core.display.HTML object>"
      ]
     },
     "metadata": {},
     "output_type": "display_data"
    },
    {
     "name": "stdout",
     "output_type": "stream",
     "text": [
      "   Train loss  Valid loss  Accuracy\n",
      "0      0.7665      0.5236    0.8062\n"
     ]
    },
    {
     "data": {
      "text/html": [],
      "text/plain": [
       "<IPython.core.display.HTML object>"
      ]
     },
     "metadata": {},
     "output_type": "display_data"
    },
    {
     "data": {
      "text/html": [],
      "text/plain": [
       "<IPython.core.display.HTML object>"
      ]
     },
     "metadata": {},
     "output_type": "display_data"
    },
    {
     "name": "stdout",
     "output_type": "stream",
     "text": [
      "   Train loss  Valid loss  Accuracy\n",
      "1       0.449      0.4455    0.8403\n"
     ]
    },
    {
     "data": {
      "text/html": [],
      "text/plain": [
       "<IPython.core.display.HTML object>"
      ]
     },
     "metadata": {},
     "output_type": "display_data"
    },
    {
     "data": {
      "text/html": [],
      "text/plain": [
       "<IPython.core.display.HTML object>"
      ]
     },
     "metadata": {},
     "output_type": "display_data"
    },
    {
     "name": "stdout",
     "output_type": "stream",
     "text": [
      "   Train loss  Valid loss  Accuracy\n",
      "2      0.3936      0.4053    0.8516\n"
     ]
    },
    {
     "data": {
      "text/html": [],
      "text/plain": [
       "<IPython.core.display.HTML object>"
      ]
     },
     "metadata": {},
     "output_type": "display_data"
    },
    {
     "data": {
      "text/html": [],
      "text/plain": [
       "<IPython.core.display.HTML object>"
      ]
     },
     "metadata": {},
     "output_type": "display_data"
    },
    {
     "name": "stdout",
     "output_type": "stream",
     "text": [
      "   Train loss  Valid loss  Accuracy\n",
      "3      0.3605      0.3907    0.8606\n"
     ]
    },
    {
     "data": {
      "text/html": [],
      "text/plain": [
       "<IPython.core.display.HTML object>"
      ]
     },
     "metadata": {},
     "output_type": "display_data"
    },
    {
     "data": {
      "text/html": [],
      "text/plain": [
       "<IPython.core.display.HTML object>"
      ]
     },
     "metadata": {},
     "output_type": "display_data"
    },
    {
     "name": "stdout",
     "output_type": "stream",
     "text": [
      "   Train loss  Valid loss  Accuracy\n",
      "4      0.3388      0.3915    0.8576\n"
     ]
    }
   ],
   "source": [
    "model = get_model()\n",
    "learn = BaseLearner(dls, model, cbs=cbs, scheduler=None, opt_func=SGD)\n",
    "learn.fit(0.4, 5)"
   ]
  },
  {
   "cell_type": "markdown",
   "id": "0bd01707-d8fb-4b39-a59c-8f9feaddc9ce",
   "metadata": {},
   "source": [
    "To enable momentum inside the optimiser, we interpolate between the value of the accumulated gradient average and the update on the current step."
   ]
  },
  {
   "cell_type": "code",
   "execution_count": null,
   "id": "215707ea-0d7c-4231-984f-e728b73304d4",
   "metadata": {},
   "outputs": [],
   "source": [
    "class Momentum(SGD):\n",
    "    def __init__(self, params, lr, mom=0.9):\n",
    "        super().__init__(params, lr)\n",
    "        self.mom = mom\n",
    "    def opt_step(self, p):\n",
    "        if not hasattr(p, 'grad_avg'): p.grad_avg = torch.zeros_like(p.grad)\n",
    "        p.grad_avg = (self.mom * p.grad_avg) + ((1-self.mom) * p.grad)\n",
    "        p -= p.grad_avg * self.lr"
   ]
  },
  {
   "cell_type": "code",
   "execution_count": null,
   "id": "875aec1e-d449-4c24-a198-0b0918a1c32b",
   "metadata": {},
   "outputs": [
    {
     "data": {
      "text/html": [],
      "text/plain": [
       "<IPython.core.display.HTML object>"
      ]
     },
     "metadata": {},
     "output_type": "display_data"
    },
    {
     "data": {
      "text/html": [],
      "text/plain": [
       "<IPython.core.display.HTML object>"
      ]
     },
     "metadata": {},
     "output_type": "display_data"
    },
    {
     "data": {
      "text/html": [],
      "text/plain": [
       "<IPython.core.display.HTML object>"
      ]
     },
     "metadata": {},
     "output_type": "display_data"
    },
    {
     "name": "stdout",
     "output_type": "stream",
     "text": [
      "   Train loss  Valid loss  Accuracy\n",
      "0      0.7796      0.4828    0.8175\n"
     ]
    },
    {
     "data": {
      "text/html": [],
      "text/plain": [
       "<IPython.core.display.HTML object>"
      ]
     },
     "metadata": {},
     "output_type": "display_data"
    },
    {
     "data": {
      "text/html": [],
      "text/plain": [
       "<IPython.core.display.HTML object>"
      ]
     },
     "metadata": {},
     "output_type": "display_data"
    },
    {
     "name": "stdout",
     "output_type": "stream",
     "text": [
      "   Train loss  Valid loss  Accuracy\n",
      "1      0.4198      0.4185    0.8451\n"
     ]
    },
    {
     "data": {
      "text/html": [],
      "text/plain": [
       "<IPython.core.display.HTML object>"
      ]
     },
     "metadata": {},
     "output_type": "display_data"
    },
    {
     "data": {
      "text/html": [],
      "text/plain": [
       "<IPython.core.display.HTML object>"
      ]
     },
     "metadata": {},
     "output_type": "display_data"
    },
    {
     "name": "stdout",
     "output_type": "stream",
     "text": [
      "   Train loss  Valid loss  Accuracy\n",
      "2      0.3686      0.3878    0.8578\n"
     ]
    },
    {
     "data": {
      "text/html": [],
      "text/plain": [
       "<IPython.core.display.HTML object>"
      ]
     },
     "metadata": {},
     "output_type": "display_data"
    },
    {
     "data": {
      "text/html": [],
      "text/plain": [
       "<IPython.core.display.HTML object>"
      ]
     },
     "metadata": {},
     "output_type": "display_data"
    },
    {
     "name": "stdout",
     "output_type": "stream",
     "text": [
      "   Train loss  Valid loss  Accuracy\n",
      "3       0.339      0.3695    0.8644\n"
     ]
    },
    {
     "data": {
      "text/html": [],
      "text/plain": [
       "<IPython.core.display.HTML object>"
      ]
     },
     "metadata": {},
     "output_type": "display_data"
    },
    {
     "data": {
      "text/html": [],
      "text/plain": [
       "<IPython.core.display.HTML object>"
      ]
     },
     "metadata": {},
     "output_type": "display_data"
    },
    {
     "name": "stdout",
     "output_type": "stream",
     "text": [
      "   Train loss  Valid loss  Accuracy\n",
      "4      0.3182      0.3559    0.8703\n"
     ]
    }
   ],
   "source": [
    "model = get_model()\n",
    "learn = BaseLearner(dls, model, cbs=cbs, scheduler=None, opt_func=Momentum)\n",
    "learn.fit(0.4, 5)"
   ]
  },
  {
   "cell_type": "markdown",
   "id": "1390e3aa-1af4-4715-9556-417040d48280",
   "metadata": {},
   "source": [
    "We can see that this trains more quickly. Why is this? Well, we can illustrate it with a simple example."
   ]
  },
  {
   "cell_type": "code",
   "execution_count": null,
   "id": "fd3ec276-bcd6-4e0f-a94e-a9330da0486d",
   "metadata": {},
   "outputs": [
    {
     "data": {
      "image/png": "[encoded data removed]",
      "text/plain": [
       "<Figure size 1200x800 with 4 Axes>"
      ]
     },
     "metadata": {},
     "output_type": "display_data"
    }
   ],
   "source": [
    "x = torch.linspace(-4, 4, 100)\n",
    "y = 1 - (x/3)**2 + torch.randn(100)*0.1\n",
    "\n",
    "fig, axs = plt.subplots(2, 2, figsize=(12, 8))\n",
    "betas = [0.5, 0.8, 0.9, 0.99]\n",
    "for beta, ax in zip(betas, axs.flatten()):\n",
    "    ax.scatter(x, y)\n",
    "    avg, res = 0,[]\n",
    "    for yi in y:\n",
    "        avg = beta*avg + (1-beta)*yi\n",
    "        res.append(avg)\n",
    "    ax.plot(x, np.array(res), color='red')\n",
    "    ax.set_title(f'beta={beta}')"
   ]
  },
  {
   "cell_type": "markdown",
   "id": "d5c98021-c62d-4935-8410-f54647a4885b",
   "metadata": {},
   "source": [
    "As we increase the beta value (the extent to which we bias towards the accumulated gradient average), the algorithm becomes less reactive to the current batch of data. It can follow the general trend, but it does not get distracted by the outliers. However, note that if we increase the momentum too far, then the algorithm no longer reacts at all the current batch of data."
   ]
  },
  {
   "cell_type": "markdown",
   "id": "9d01cff4-1874-4a26-804d-ad58ebb70d0c",
   "metadata": {},
   "source": [
    "## RMSProp\n",
    "\n",
    "Momentum is a useful addition that helps networks to train more quickly. However, it is quite a strong measure that can impact the ability of a model to respond to changes. This is particularly true in sensitive architectures.\n",
    "\n",
    "RMSProp takes a similar approach. But rather than maintaining a gradient average, it maintains a *square* average of the gradient and interpolates between this value and the current update. And rather than just multiplying this term by the learning rate, it instead divides the gradient by the square root of the square average. This way, the algorithm biases towards the *confidence* of the current direction.\n",
    "\n",
    "When using a square term, negatives are cancelled and high square averages will indicate high variance, assuming that activations are normally distributed around a mean of 0. The gradient is divided by the root of the square average in each batch, which penalises the gradient by the size of the standard deviation — in cases where the standard deviation is low, we make larger updates because the divisor is small (and the gradient remains roughly as it was). In cases where the standard deviation is high, we make smaller updates because the divisor is high."
   ]
  },
  {
   "cell_type": "code",
   "execution_count": null,
   "id": "8796d73f-49e9-4914-93e3-b551380eaf40",
   "metadata": {},
   "outputs": [],
   "source": [
    "class RMSProp(SGD):\n",
    "    def __init__(self, params, lr, sqr_mom=0.99, epsilon=1e-5):\n",
    "        super().__init__(params, lr)\n",
    "        self.sqr_mom, self.epsilon = sqr_mom, epsilon\n",
    "    def opt_step(self, p):\n",
    "        if not hasattr(p, 'sqr_avg'): p.sqr_avg = p.grad**2\n",
    "        p.sqr_avg = (self.sqr_mom * p.sqr_avg) + ((1-self.sqr_mom) * (p.grad**2))\n",
    "        p -= self.lr * p.grad / (p.sqr_avg.sqrt() + self.epsilon)"
   ]
  },
  {
   "cell_type": "code",
   "execution_count": null,
   "id": "6e0e6af9-df59-41b9-869e-0b9119f4af4c",
   "metadata": {},
   "outputs": [
    {
     "data": {
      "text/html": [],
      "text/plain": [
       "<IPython.core.display.HTML object>"
      ]
     },
     "metadata": {},
     "output_type": "display_data"
    },
    {
     "data": {
      "text/html": [],
      "text/plain": [
       "<IPython.core.display.HTML object>"
      ]
     },
     "metadata": {},
     "output_type": "display_data"
    },
    {
     "data": {
      "text/html": [],
      "text/plain": [
       "<IPython.core.display.HTML object>"
      ]
     },
     "metadata": {},
     "output_type": "display_data"
    },
    {
     "name": "stdout",
     "output_type": "stream",
     "text": [
      "   Train loss  Valid loss  Accuracy\n",
      "0      0.7649      0.4812    0.8174\n"
     ]
    },
    {
     "data": {
      "text/html": [],
      "text/plain": [
       "<IPython.core.display.HTML object>"
      ]
     },
     "metadata": {},
     "output_type": "display_data"
    },
    {
     "data": {
      "text/html": [],
      "text/plain": [
       "<IPython.core.display.HTML object>"
      ]
     },
     "metadata": {},
     "output_type": "display_data"
    },
    {
     "name": "stdout",
     "output_type": "stream",
     "text": [
      "   Train loss  Valid loss  Accuracy\n",
      "1      0.4069      0.3919    0.8527\n"
     ]
    },
    {
     "data": {
      "text/html": [],
      "text/plain": [
       "<IPython.core.display.HTML object>"
      ]
     },
     "metadata": {},
     "output_type": "display_data"
    },
    {
     "data": {
      "text/html": [],
      "text/plain": [
       "<IPython.core.display.HTML object>"
      ]
     },
     "metadata": {},
     "output_type": "display_data"
    },
    {
     "name": "stdout",
     "output_type": "stream",
     "text": [
      "   Train loss  Valid loss  Accuracy\n",
      "2      0.3534      0.3747    0.8598\n"
     ]
    },
    {
     "data": {
      "text/html": [],
      "text/plain": [
       "<IPython.core.display.HTML object>"
      ]
     },
     "metadata": {},
     "output_type": "display_data"
    },
    {
     "data": {
      "text/html": [],
      "text/plain": [
       "<IPython.core.display.HTML object>"
      ]
     },
     "metadata": {},
     "output_type": "display_data"
    },
    {
     "name": "stdout",
     "output_type": "stream",
     "text": [
      "   Train loss  Valid loss  Accuracy\n",
      "3      0.3231      0.3534    0.8693\n"
     ]
    },
    {
     "data": {
      "text/html": [],
      "text/plain": [
       "<IPython.core.display.HTML object>"
      ]
     },
     "metadata": {},
     "output_type": "display_data"
    },
    {
     "data": {
      "text/html": [],
      "text/plain": [
       "<IPython.core.display.HTML object>"
      ]
     },
     "metadata": {},
     "output_type": "display_data"
    },
    {
     "name": "stdout",
     "output_type": "stream",
     "text": [
      "   Train loss  Valid loss  Accuracy\n",
      "4      0.3004      0.3656    0.8659\n"
     ]
    }
   ],
   "source": [
    "model = get_model()\n",
    "learn = BaseLearner(dls, model, cbs=cbs, scheduler=None, opt_func=RMSProp)\n",
    "learn.fit(0.01, 5)"
   ]
  },
  {
   "cell_type": "markdown",
   "id": "58f9f33d-faf4-4ff3-9b7f-3ecdffddf736",
   "metadata": {},
   "source": [
    "## Weight decay\n",
    "\n",
    "Networks tend to work best when the weights are small. This is because large weights cause a bumpier loss surface. Consider a simple parabola in which we increase the value of the coefficient — the shape of the parabola becomes narrower. We can imagine something similar in the high dimensional space of the loss surface, in which large weights cause the calculation of large deltas between gradients, leading to a very bumpy surface."
   ]
  },
  {
   "cell_type": "code",
   "execution_count": null,
   "id": "618dfca2-4095-4f82-ba93-6aec8ad0f512",
   "metadata": {},
   "outputs": [
    {
     "data": {
      "image/png": "[encoded data removed]",
      "text/plain": [
       "<Figure size 600x400 with 1 Axes>"
      ]
     },
     "metadata": {},
     "output_type": "display_data"
    }
   ],
   "source": [
    "x = np.linspace(-2,2,100)\n",
    "a_s = [1,2,5,10,50] \n",
    "ys = [a * x**2 for a in a_s]\n",
    "_,ax = plt.subplots(figsize=(6,4))\n",
    "for a,y in zip(a_s,ys): ax.plot(x,y, label=f'a={a}')\n",
    "ax.set_ylim([0,5])\n",
    "ax.legend();"
   ]
  },
  {
   "cell_type": "markdown",
   "id": "0de883cf-f2ec-42e2-8f3b-d41af5e6f13a",
   "metadata": {},
   "source": [
    "Weight decay aims to overcome this problem by encouraging the weights to remain small throughout the training process. It involves adding on a contribution proportional to the size of the weights.\n",
    "\n",
    "    loss_with_wd = loss + wd * (parameters**2).sum()\n",
    "    \n",
    "As the weights get larger, the loss will increase. As such, the network will learn to keep the weights low as this will minimise the calculation of the loss term. However, it's not tractable to calculate the sum of all parameters squared, since this would be an arbitrarily large number. Ultimately, since the loss backpropagates as the *derivative* of the loss, we are only really interested in finding the derivative of the loss with weight decay. As such, we can calculate the loss and then add on the weight decay inside the derivative. Since the parameter term is squared, its derivative will be 2x. And this 2 can be absorbed into the weight decay term simply by doubling it.\n",
    "\n",
    "    parameters.grad += wd * 2 * parameters\n",
    "    parameters.grad += wd * parameters"
   ]
  },
  {
   "cell_type": "code",
   "execution_count": null,
   "id": "0c346832-3440-4c8f-8f64-7fdc10a40551",
   "metadata": {},
   "outputs": [],
   "source": [
    "class SGD:\n",
    "    def __init__(self, params, lr, wd=0.):\n",
    "        params = list(params)\n",
    "        fc.store_attr()\n",
    "        \n",
    "    def step(self):\n",
    "        with torch.no_grad():\n",
    "            for p in self.params: \n",
    "                self.reg_step(p)\n",
    "                self.opt_step(p)\n",
    "    \n",
    "    def reg_step(self, p): p.grad += self.wd*p\n",
    "    def opt_step(self, p): p -= p.grad * self.lr\n",
    "    def zero_grad(self):\n",
    "        for p in self.params: p.grad.data.zero_()"
   ]
  },
  {
   "cell_type": "code",
   "execution_count": null,
   "id": "09ae8ce6-9ae1-4c41-8e69-ceb0fa3b572e",
   "metadata": {},
   "outputs": [
    {
     "data": {
      "text/html": [],
      "text/plain": [
       "<IPython.core.display.HTML object>"
      ]
     },
     "metadata": {},
     "output_type": "display_data"
    },
    {
     "data": {
      "text/html": [],
      "text/plain": [
       "<IPython.core.display.HTML object>"
      ]
     },
     "metadata": {},
     "output_type": "display_data"
    },
    {
     "data": {
      "text/html": [],
      "text/plain": [
       "<IPython.core.display.HTML object>"
      ]
     },
     "metadata": {},
     "output_type": "display_data"
    },
    {
     "name": "stdout",
     "output_type": "stream",
     "text": [
      "   Train loss  Valid loss  Accuracy\n",
      "0      1.8656      1.4895    0.5712\n"
     ]
    },
    {
     "data": {
      "text/html": [],
      "text/plain": [
       "<IPython.core.display.HTML object>"
      ]
     },
     "metadata": {},
     "output_type": "display_data"
    },
    {
     "data": {
      "text/html": [],
      "text/plain": [
       "<IPython.core.display.HTML object>"
      ]
     },
     "metadata": {},
     "output_type": "display_data"
    },
    {
     "name": "stdout",
     "output_type": "stream",
     "text": [
      "   Train loss  Valid loss  Accuracy\n",
      "1      1.2964      1.1521    0.6664\n"
     ]
    },
    {
     "data": {
      "text/html": [],
      "text/plain": [
       "<IPython.core.display.HTML object>"
      ]
     },
     "metadata": {},
     "output_type": "display_data"
    },
    {
     "data": {
      "text/html": [],
      "text/plain": [
       "<IPython.core.display.HTML object>"
      ]
     },
     "metadata": {},
     "output_type": "display_data"
    },
    {
     "name": "stdout",
     "output_type": "stream",
     "text": [
      "   Train loss  Valid loss  Accuracy\n",
      "2      1.0537      0.9852     0.699\n"
     ]
    },
    {
     "data": {
      "text/html": [],
      "text/plain": [
       "<IPython.core.display.HTML object>"
      ]
     },
     "metadata": {},
     "output_type": "display_data"
    },
    {
     "data": {
      "text/html": [],
      "text/plain": [
       "<IPython.core.display.HTML object>"
      ]
     },
     "metadata": {},
     "output_type": "display_data"
    },
    {
     "name": "stdout",
     "output_type": "stream",
     "text": [
      "   Train loss  Valid loss  Accuracy\n",
      "3      0.9249      0.8889    0.7179\n"
     ]
    },
    {
     "data": {
      "text/html": [],
      "text/plain": [
       "<IPython.core.display.HTML object>"
      ]
     },
     "metadata": {},
     "output_type": "display_data"
    },
    {
     "data": {
      "text/html": [],
      "text/plain": [
       "<IPython.core.display.HTML object>"
      ]
     },
     "metadata": {},
     "output_type": "display_data"
    },
    {
     "name": "stdout",
     "output_type": "stream",
     "text": [
      "   Train loss  Valid loss  Accuracy\n",
      "4      0.8456      0.8257    0.7285\n"
     ]
    }
   ],
   "source": [
    "model = get_model()\n",
    "learn = BaseLearner(dls, model, cbs=cbs, scheduler=None, opt_func=partial(SGD, wd=0.01))\n",
    "learn.fit(0.01, 5)"
   ]
  },
  {
   "cell_type": "markdown",
   "id": "d333fb21-3b76-4a17-b5b4-c6893b627f67",
   "metadata": {},
   "source": [
    "## Adam\n",
    "\n",
    "Adam is a combination of both RMSProp and Momentum. The idea is that momentum helps to keep the algorithm moving in an accumulated direction, while RMSProp helps to determine whether or not its the right direction."
   ]
  },
  {
   "cell_type": "code",
   "execution_count": null,
   "id": "b24ad089-59d5-49c1-9f3f-8bff21fef4df",
   "metadata": {},
   "outputs": [],
   "source": [
    "class Adam(SGD):\n",
    "    def __init__(self, params, lr, beta1=0.9, beta2=0.999, epsilon=1e-5, wd=0.):\n",
    "        super().__init__(params, lr, wd)\n",
    "        self.beta1, self.beta2, self.epsilon, self.i = beta1, beta2, epsilon, 0\n",
    "        \n",
    "    def opt_step(self, p):\n",
    "        if not hasattr(p, 'avg'): p.avg = torch.zeros_like(p.grad.data)\n",
    "        if not hasattr(p, 'sqr_avg'): p.sqr_avg = torch.zeros_like(p.grad.data)\n",
    "        p.avg = (self.beta1 * p.avg) + ((1-self.beta1) * p.grad)\n",
    "        p.sqr_avg = (self.beta2 * p.sqr_avg) + ((1-self.beta2) * p.grad**2)\n",
    "        unbiased_avg = p.avg / (1 - (self.beta1**(self.i+1)))\n",
    "        unbiased_sqr_avg = p.sqr_avg / (1 - (self.beta2**(self.i+1)))\n",
    "        p -= (self.lr * unbiased_avg) / (unbiased_sqr_avg + self.epsilon).sqrt()\n",
    "        self.i += 1"
   ]
  },
  {
   "cell_type": "code",
   "execution_count": null,
   "id": "1d6bf9cb-f13c-47ef-b4e9-452a540065af",
   "metadata": {},
   "outputs": [
    {
     "data": {
      "text/html": [],
      "text/plain": [
       "<IPython.core.display.HTML object>"
      ]
     },
     "metadata": {},
     "output_type": "display_data"
    },
    {
     "data": {
      "text/html": [],
      "text/plain": [
       "<IPython.core.display.HTML object>"
      ]
     },
     "metadata": {},
     "output_type": "display_data"
    },
    {
     "data": {
      "text/html": [],
      "text/plain": [
       "<IPython.core.display.HTML object>"
      ]
     },
     "metadata": {},
     "output_type": "display_data"
    },
    {
     "name": "stdout",
     "output_type": "stream",
     "text": [
      "   Train loss  Valid loss  Accuracy\n",
      "0      0.5866      0.3994    0.8511\n"
     ]
    },
    {
     "data": {
      "text/html": [],
      "text/plain": [
       "<IPython.core.display.HTML object>"
      ]
     },
     "metadata": {},
     "output_type": "display_data"
    },
    {
     "data": {
      "text/html": [],
      "text/plain": [
       "<IPython.core.display.HTML object>"
      ]
     },
     "metadata": {},
     "output_type": "display_data"
    },
    {
     "name": "stdout",
     "output_type": "stream",
     "text": [
      "   Train loss  Valid loss  Accuracy\n",
      "1      0.3474       0.357     0.866\n"
     ]
    },
    {
     "data": {
      "text/html": [],
      "text/plain": [
       "<IPython.core.display.HTML object>"
      ]
     },
     "metadata": {},
     "output_type": "display_data"
    },
    {
     "data": {
      "text/html": [],
      "text/plain": [
       "<IPython.core.display.HTML object>"
      ]
     },
     "metadata": {},
     "output_type": "display_data"
    },
    {
     "name": "stdout",
     "output_type": "stream",
     "text": [
      "   Train loss  Valid loss  Accuracy\n",
      "2      0.3068        0.33    0.8784\n"
     ]
    },
    {
     "data": {
      "text/html": [],
      "text/plain": [
       "<IPython.core.display.HTML object>"
      ]
     },
     "metadata": {},
     "output_type": "display_data"
    },
    {
     "data": {
      "text/html": [],
      "text/plain": [
       "<IPython.core.display.HTML object>"
      ]
     },
     "metadata": {},
     "output_type": "display_data"
    },
    {
     "name": "stdout",
     "output_type": "stream",
     "text": [
      "   Train loss  Valid loss  Accuracy\n",
      "3      0.2816      0.3173    0.8815\n"
     ]
    },
    {
     "data": {
      "text/html": [],
      "text/plain": [
       "<IPython.core.display.HTML object>"
      ]
     },
     "metadata": {},
     "output_type": "display_data"
    },
    {
     "data": {
      "text/html": [],
      "text/plain": [
       "<IPython.core.display.HTML object>"
      ]
     },
     "metadata": {},
     "output_type": "display_data"
    },
    {
     "name": "stdout",
     "output_type": "stream",
     "text": [
      "   Train loss  Valid loss  Accuracy\n",
      "4      0.2626      0.3126    0.8854\n"
     ]
    }
   ],
   "source": [
    "model = get_model()\n",
    "learn = BaseLearner(dls, model, cbs=cbs, scheduler=None, opt_func=partial(Adam, wd=0.1))\n",
    "learn.fit(0.01, 5)"
   ]
  },
  {
   "cell_type": "code",
   "execution_count": null,
   "id": "591c4dae-ee9a-4b87-a585-90b13b182acf",
   "metadata": {},
   "outputs": [
    {
     "data": {
      "text/html": [],
      "text/plain": [
       "<IPython.core.display.HTML object>"
      ]
     },
     "metadata": {},
     "output_type": "display_data"
    },
    {
     "data": {
      "text/html": [],
      "text/plain": [
       "<IPython.core.display.HTML object>"
      ]
     },
     "metadata": {},
     "output_type": "display_data"
    },
    {
     "data": {
      "text/html": [],
      "text/plain": [
       "<IPython.core.display.HTML object>"
      ]
     },
     "metadata": {},
     "output_type": "display_data"
    },
    {
     "name": "stdout",
     "output_type": "stream",
     "text": [
      "   Train loss  Valid loss  Accuracy\n",
      "0      0.5617      0.3975    0.8543\n"
     ]
    },
    {
     "data": {
      "text/html": [],
      "text/plain": [
       "<IPython.core.display.HTML object>"
      ]
     },
     "metadata": {},
     "output_type": "display_data"
    },
    {
     "data": {
      "text/html": [],
      "text/plain": [
       "<IPython.core.display.HTML object>"
      ]
     },
     "metadata": {},
     "output_type": "display_data"
    },
    {
     "name": "stdout",
     "output_type": "stream",
     "text": [
      "   Train loss  Valid loss  Accuracy\n",
      "1      0.3439      0.3498    0.8732\n"
     ]
    },
    {
     "data": {
      "text/html": [],
      "text/plain": [
       "<IPython.core.display.HTML object>"
      ]
     },
     "metadata": {},
     "output_type": "display_data"
    },
    {
     "data": {
      "text/html": [],
      "text/plain": [
       "<IPython.core.display.HTML object>"
      ]
     },
     "metadata": {},
     "output_type": "display_data"
    },
    {
     "name": "stdout",
     "output_type": "stream",
     "text": [
      "   Train loss  Valid loss  Accuracy\n",
      "2      0.2974      0.3313    0.8766\n"
     ]
    },
    {
     "data": {
      "text/html": [],
      "text/plain": [
       "<IPython.core.display.HTML object>"
      ]
     },
     "metadata": {},
     "output_type": "display_data"
    },
    {
     "data": {
      "text/html": [],
      "text/plain": [
       "<IPython.core.display.HTML object>"
      ]
     },
     "metadata": {},
     "output_type": "display_data"
    },
    {
     "name": "stdout",
     "output_type": "stream",
     "text": [
      "   Train loss  Valid loss  Accuracy\n",
      "3       0.271      0.3162    0.8851\n"
     ]
    },
    {
     "data": {
      "text/html": [],
      "text/plain": [
       "<IPython.core.display.HTML object>"
      ]
     },
     "metadata": {},
     "output_type": "display_data"
    },
    {
     "data": {
      "text/html": [],
      "text/plain": [
       "<IPython.core.display.HTML object>"
      ]
     },
     "metadata": {},
     "output_type": "display_data"
    },
    {
     "name": "stdout",
     "output_type": "stream",
     "text": [
      "   Train loss  Valid loss  Accuracy\n",
      "4      0.2515      0.3126    0.8882\n"
     ]
    }
   ],
   "source": [
    "model = get_model()\n",
    "learn = BaseLearner(dls, model, cbs=cbs, scheduler=None, opt_func=optim.Adam)\n",
    "learn.fit(0.01, 5)"
   ]
  },
  {
   "cell_type": "markdown",
   "id": "bc513cbe-a98a-4283-94c1-a2ef0f986acd",
   "metadata": {},
   "source": [
    "## AdamW\n",
    "\n",
    "Note that in the Pytorch API, there are two versions of Adam available — AdamW and Adam. While Adam had a lot of support when it was first released, that enthusiasm cooled as several research papers showed its inability to compete with vanilla SGD with momentum. The problem with Adam is the way in which weight decay is carried out. L2 regularisation is the process of doing this equation:\n",
    "\n",
    "    loss_with_wd = loss + wd * (parameters**2).sum()\n",
    "\n",
    "Which is derived as this equation:\n",
    "\n",
    "    parameters.grad += wd * parameters\n",
    "    \n",
    "However, the regularisation step is carried out before the optimisation step, in order to introduce the penalty before the gradients are calculated. The Adam optimiser changes the way that the gradient is calculated, by introducing the exponentially weighted averages. Therefore, the derivative here is no longer equivalent.\n",
    "\n",
    "Instead, what we want is to isolate the regularisation step from the parameters themselves. This way, we don't mess with the gradients in the regularisation step, we just update the parameter itself. To do so, we can use the following formula:\n",
    "\n",
    "    parameter *= 1 - lr*wd"
   ]
  },
  {
   "cell_type": "code",
   "execution_count": null,
   "id": "ebbd8697-d794-4866-9a1b-7cb5a0041d39",
   "metadata": {},
   "outputs": [],
   "source": [
    "class SGD:\n",
    "    def __init__(self, params, lr, wd=0.):\n",
    "        params = list(params)\n",
    "        fc.store_attr()\n",
    "        \n",
    "    def step(self):\n",
    "        with torch.no_grad():\n",
    "            for p in self.params: \n",
    "                self.reg_step(p)\n",
    "                self.opt_step(p)\n",
    "    \n",
    "    def reg_step(self, p): \n",
    "        if self.wd !=0: p *= 1 - self.lr*self.wd\n",
    "    def opt_step(self, p): p -= p.grad * self.lr\n",
    "    def zero_grad(self):\n",
    "        for p in self.params: p.grad.data.zero_()"
   ]
  },
  {
   "cell_type": "code",
   "execution_count": null,
   "id": "bb9803c4-3d72-4203-b08f-a3f9b871f145",
   "metadata": {},
   "outputs": [
    {
     "data": {
      "text/html": [],
      "text/plain": [
       "<IPython.core.display.HTML object>"
      ]
     },
     "metadata": {},
     "output_type": "display_data"
    },
    {
     "data": {
      "text/html": [],
      "text/plain": [
       "<IPython.core.display.HTML object>"
      ]
     },
     "metadata": {},
     "output_type": "display_data"
    },
    {
     "data": {
      "text/html": [],
      "text/plain": [
       "<IPython.core.display.HTML object>"
      ]
     },
     "metadata": {},
     "output_type": "display_data"
    },
    {
     "name": "stdout",
     "output_type": "stream",
     "text": [
      "   Train loss  Valid loss  Accuracy\n",
      "0       0.593      0.4303    0.8366\n"
     ]
    },
    {
     "data": {
      "text/html": [],
      "text/plain": [
       "<IPython.core.display.HTML object>"
      ]
     },
     "metadata": {},
     "output_type": "display_data"
    },
    {
     "data": {
      "text/html": [],
      "text/plain": [
       "<IPython.core.display.HTML object>"
      ]
     },
     "metadata": {},
     "output_type": "display_data"
    },
    {
     "name": "stdout",
     "output_type": "stream",
     "text": [
      "   Train loss  Valid loss  Accuracy\n",
      "1      0.3461      0.3703    0.8615\n"
     ]
    },
    {
     "data": {
      "text/html": [],
      "text/plain": [
       "<IPython.core.display.HTML object>"
      ]
     },
     "metadata": {},
     "output_type": "display_data"
    },
    {
     "data": {
      "text/html": [],
      "text/plain": [
       "<IPython.core.display.HTML object>"
      ]
     },
     "metadata": {},
     "output_type": "display_data"
    },
    {
     "name": "stdout",
     "output_type": "stream",
     "text": [
      "   Train loss  Valid loss  Accuracy\n",
      "2      0.3062      0.3358    0.8743\n"
     ]
    },
    {
     "data": {
      "text/html": [],
      "text/plain": [
       "<IPython.core.display.HTML object>"
      ]
     },
     "metadata": {},
     "output_type": "display_data"
    },
    {
     "data": {
      "text/html": [],
      "text/plain": [
       "<IPython.core.display.HTML object>"
      ]
     },
     "metadata": {},
     "output_type": "display_data"
    },
    {
     "name": "stdout",
     "output_type": "stream",
     "text": [
      "   Train loss  Valid loss  Accuracy\n",
      "3      0.2859      0.3219    0.8806\n"
     ]
    },
    {
     "data": {
      "text/html": [],
      "text/plain": [
       "<IPython.core.display.HTML object>"
      ]
     },
     "metadata": {},
     "output_type": "display_data"
    },
    {
     "data": {
      "text/html": [],
      "text/plain": [
       "<IPython.core.display.HTML object>"
      ]
     },
     "metadata": {},
     "output_type": "display_data"
    },
    {
     "name": "stdout",
     "output_type": "stream",
     "text": [
      "   Train loss  Valid loss  Accuracy\n",
      "4      0.2682      0.3129    0.8825\n"
     ]
    }
   ],
   "source": [
    "model = get_model()\n",
    "learn = BaseLearner(dls, model, cbs=cbs, scheduler=None, opt_func=partial(Adam, wd=0.1))\n",
    "learn.fit(0.01, 5)"
   ]
  },
  {
   "cell_type": "code",
   "execution_count": null,
   "id": "cc934d91-7364-44d3-b0d8-41f8edf0d7a9",
   "metadata": {},
   "outputs": [
    {
     "data": {
      "text/html": [],
      "text/plain": [
       "<IPython.core.display.HTML object>"
      ]
     },
     "metadata": {},
     "output_type": "display_data"
    },
    {
     "data": {
      "text/html": [],
      "text/plain": [
       "<IPython.core.display.HTML object>"
      ]
     },
     "metadata": {},
     "output_type": "display_data"
    },
    {
     "data": {
      "text/html": [],
      "text/plain": [
       "<IPython.core.display.HTML object>"
      ]
     },
     "metadata": {},
     "output_type": "display_data"
    },
    {
     "name": "stdout",
     "output_type": "stream",
     "text": [
      "   Train loss  Valid loss  Accuracy\n",
      "0      0.5796      0.4013    0.8562\n"
     ]
    },
    {
     "data": {
      "text/html": [],
      "text/plain": [
       "<IPython.core.display.HTML object>"
      ]
     },
     "metadata": {},
     "output_type": "display_data"
    },
    {
     "data": {
      "text/html": [],
      "text/plain": [
       "<IPython.core.display.HTML object>"
      ]
     },
     "metadata": {},
     "output_type": "display_data"
    },
    {
     "name": "stdout",
     "output_type": "stream",
     "text": [
      "   Train loss  Valid loss  Accuracy\n",
      "1       0.348      0.3503     0.874\n"
     ]
    },
    {
     "data": {
      "text/html": [],
      "text/plain": [
       "<IPython.core.display.HTML object>"
      ]
     },
     "metadata": {},
     "output_type": "display_data"
    },
    {
     "data": {
      "text/html": [],
      "text/plain": [
       "<IPython.core.display.HTML object>"
      ]
     },
     "metadata": {},
     "output_type": "display_data"
    },
    {
     "name": "stdout",
     "output_type": "stream",
     "text": [
      "   Train loss  Valid loss  Accuracy\n",
      "2      0.2987      0.3273    0.8826\n"
     ]
    },
    {
     "data": {
      "text/html": [],
      "text/plain": [
       "<IPython.core.display.HTML object>"
      ]
     },
     "metadata": {},
     "output_type": "display_data"
    },
    {
     "data": {
      "text/html": [],
      "text/plain": [
       "<IPython.core.display.HTML object>"
      ]
     },
     "metadata": {},
     "output_type": "display_data"
    },
    {
     "name": "stdout",
     "output_type": "stream",
     "text": [
      "   Train loss  Valid loss  Accuracy\n",
      "3      0.2696      0.3174     0.886\n"
     ]
    },
    {
     "data": {
      "text/html": [],
      "text/plain": [
       "<IPython.core.display.HTML object>"
      ]
     },
     "metadata": {},
     "output_type": "display_data"
    },
    {
     "data": {
      "text/html": [],
      "text/plain": [
       "<IPython.core.display.HTML object>"
      ]
     },
     "metadata": {},
     "output_type": "display_data"
    },
    {
     "name": "stdout",
     "output_type": "stream",
     "text": [
      "   Train loss  Valid loss  Accuracy\n",
      "4      0.2515      0.3085    0.8894\n"
     ]
    }
   ],
   "source": [
    "model = get_model()\n",
    "learn = BaseLearner(dls, model, cbs=cbs, scheduler=None, opt_func=partial(optim.AdamW, weight_decay=0.1))\n",
    "learn.fit(0.01, 5)"
   ]
  },
  {
   "cell_type": "markdown",
   "id": "086aedc4-ac76-43ad-b2ca-3d61e28d760a",
   "metadata": {},
   "source": [
    "## Schedulers\n",
    "\n",
    "When you train models, you tend to find that the model benefits from a high learning rate at first. However, after a while, it finds a good bit of territory on the loss surface and a lower learning rate helps it to find the local optimum in that territory — big steps to the right area, followed by little steps to the bottom. It's a pain to do this manually, however, and a learning rate scheduler can enable you to do this automatically. There are a few different schedules that you could follow — two of the most popular ones include cosine annealing and the 1cycle policy."
   ]
  },
  {
   "cell_type": "code",
   "execution_count": null,
   "id": "89ef26a9-56d1-4bee-86a8-11f3bfd1d470",
   "metadata": {},
   "outputs": [],
   "source": [
    "#| export\n",
    "class LRScheduler(Callback):\n",
    "    order = ProgressCB.order + 2\n",
    "    def __init__(self, sched): \n",
    "        super().__init__()\n",
    "        self.sched = sched\n",
    "    def before_fit(self): \n",
    "        self.schedo = self.sched(self.learn.opt)\n",
    "    def after_batch(self): \n",
    "        if self.learn.model.training: self.schedo.step()"
   ]
  },
  {
   "cell_type": "markdown",
   "id": "4cd9e4ce-d90d-4f57-87b6-af032bf7d0f2",
   "metadata": {},
   "source": [
    "### Cosine annealing\n",
    "\n",
    "Cosine annealing decays the learning rate on a cosine curve across the epoch schedule from a maximum learning rate down to a minimum, usually a very small number. We can see this behaviour plotted on a curve:"
   ]
  },
  {
   "cell_type": "code",
   "execution_count": null,
   "id": "ed53c03a-5e94-430a-aeb3-68310d387962",
   "metadata": {},
   "outputs": [
    {
     "name": "stderr",
     "output_type": "stream",
     "text": [
      "/Users/olly/opt/anaconda3/lib/python3.9/site-packages/torch/optim/lr_scheduler.py:807: UserWarning: To get the last learning rate computed by the scheduler, please use `get_last_lr()`.\n",
      "  warnings.warn(\"To get the last learning rate computed by the scheduler, \"\n",
      "/Users/olly/opt/anaconda3/lib/python3.9/site-packages/torch/optim/lr_scheduler.py:138: UserWarning: Detected call of `lr_scheduler.step()` before `optimizer.step()`. In PyTorch 1.1.0 and later, you should call them in the opposite order: `optimizer.step()` before `lr_scheduler.step()`.  Failure to do this will result in PyTorch skipping the first value of the learning rate schedule. See more details at https://pytorch.org/docs/stable/optim.html#how-to-adjust-learning-rate\n",
      "  warnings.warn(\"Detected call of `lr_scheduler.step()` before `optimizer.step()`. \"\n"
     ]
    },
    {
     "data": {
      "text/plain": [
       "[<matplotlib.lines.Line2D>]"
      ]
     },
     "execution_count": null,
     "metadata": {},
     "output_type": "execute_result"
    },
    {
     "data": {
      "image/png": "[encoded data removed]",
      "text/plain": [
       "<Figure size 640x480 with 1 Axes>"
      ]
     },
     "metadata": {},
     "output_type": "display_data"
    }
   ],
   "source": [
    "sched = lr_scheduler.CosineAnnealingLR(learn.opt, 3*len(learn.dls.train))\n",
    "lr_lst = []\n",
    "for i in range(3*len(learn.dls.train)):\n",
    "    lr_lst.append(sched.get_lr())\n",
    "    sched.step()\n",
    "plt.plot(lr_lst)"
   ]
  },
  {
   "cell_type": "markdown",
   "id": "c1d7bd00-bb4e-4469-8999-a0b4c194b3e9",
   "metadata": {},
   "source": [
    "We can rebuild this class by modifying the state dictionary inside the optimiser object. Note that the variables of the optimiser are stored in a dictionary called a parameter group. All we need to do to update the learning rate is to update this value."
   ]
  },
  {
   "cell_type": "code",
   "execution_count": null,
   "id": "eeab4659-336d-44af-a99b-228559cfe89e",
   "metadata": {},
   "outputs": [
    {
     "data": {
      "text/plain": [
       "(AdamW (\n",
       " Parameter Group 0\n",
       "     amsgrad: False\n",
       "     betas: (0.9, 0.999)\n",
       "     capturable: False\n",
       "     eps: 1e-08\n",
       "     foreach: None\n",
       "     initial_lr: 0.01\n",
       "     lr: 0.0\n",
       "     maximize: False\n",
       "     weight_decay: 0.1\n",
       " ),\n",
       " {'lr': 0.0})"
      ]
     },
     "execution_count": null,
     "metadata": {},
     "output_type": "execute_result"
    }
   ],
   "source": [
    "learn.opt, {'lr': learn.opt.param_groups[0]['lr']}"
   ]
  },
  {
   "cell_type": "code",
   "execution_count": null,
   "id": "c79a1dcf-635e-4595-a049-78ce72d6ca3a",
   "metadata": {},
   "outputs": [],
   "source": [
    "#| export\n",
    "class SingleBatch(Callback):\n",
    "    def __init__(self): super().__init__()\n",
    "    def after_batch(self): raise CancelFitException()"
   ]
  },
  {
   "cell_type": "code",
   "execution_count": null,
   "id": "c2a0fd3a-268e-4b3d-8013-1fdf5f3c53ad",
   "metadata": {},
   "outputs": [],
   "source": [
    "class CosineAnnealingLR:\n",
    "    def __init__(self, optimiser, total_steps):\n",
    "        super().__init__()\n",
    "        self.optimiser = optimiser\n",
    "        self.max_lr, self.min_lr = self.optimiser.param_groups[0]['lr'], 0\n",
    "        self.current_step, self.total_steps = 0, total_steps\n",
    "    def step(self):\n",
    "        for group in self.optimiser.param_groups:\n",
    "            group['lr'] = self.get_lr()\n",
    "        self.current_step += 1\n",
    "    def get_lr(self):\n",
    "        if self.current_step == 0:\n",
    "            return self.max_lr\n",
    "        if self.current_step >= 1:\n",
    "            return self.min_lr + (0.5*(self.max_lr-self.min_lr) * (1 + math.cos((self.current_step / self.total_steps) * math.pi)))"
   ]
  },
  {
   "cell_type": "code",
   "execution_count": null,
   "id": "b5e44f5f-fb33-41b9-b59e-80c1249cc070",
   "metadata": {},
   "outputs": [
    {
     "data": {
      "text/html": [],
      "text/plain": [
       "<IPython.core.display.HTML object>"
      ]
     },
     "metadata": {},
     "output_type": "display_data"
    },
    {
     "data": {
      "text/html": [],
      "text/plain": [
       "<IPython.core.display.HTML object>"
      ]
     },
     "metadata": {},
     "output_type": "display_data"
    },
    {
     "data": {
      "text/html": [],
      "text/plain": [
       "<IPython.core.display.HTML object>"
      ]
     },
     "metadata": {},
     "output_type": "display_data"
    },
    {
     "name": "stdout",
     "output_type": "stream",
     "text": [
      "   Train loss  Valid loss  Accuracy\n",
      "0      0.5376      0.3786    0.8639\n"
     ]
    },
    {
     "data": {
      "text/html": [],
      "text/plain": [
       "<IPython.core.display.HTML object>"
      ]
     },
     "metadata": {},
     "output_type": "display_data"
    },
    {
     "data": {
      "text/html": [],
      "text/plain": [
       "<IPython.core.display.HTML object>"
      ]
     },
     "metadata": {},
     "output_type": "display_data"
    },
    {
     "name": "stdout",
     "output_type": "stream",
     "text": [
      "   Train loss  Valid loss  Accuracy\n",
      "1      0.3326       0.334    0.8796\n"
     ]
    },
    {
     "data": {
      "text/html": [],
      "text/plain": [
       "<IPython.core.display.HTML object>"
      ]
     },
     "metadata": {},
     "output_type": "display_data"
    },
    {
     "data": {
      "text/html": [],
      "text/plain": [
       "<IPython.core.display.HTML object>"
      ]
     },
     "metadata": {},
     "output_type": "display_data"
    },
    {
     "name": "stdout",
     "output_type": "stream",
     "text": [
      "   Train loss  Valid loss  Accuracy\n",
      "2      0.2889      0.3153    0.8883\n"
     ]
    },
    {
     "data": {
      "text/html": [],
      "text/plain": [
       "<IPython.core.display.HTML object>"
      ]
     },
     "metadata": {},
     "output_type": "display_data"
    },
    {
     "data": {
      "text/html": [],
      "text/plain": [
       "<IPython.core.display.HTML object>"
      ]
     },
     "metadata": {},
     "output_type": "display_data"
    },
    {
     "name": "stdout",
     "output_type": "stream",
     "text": [
      "   Train loss  Valid loss  Accuracy\n",
      "3      0.2671      0.3063    0.8898\n"
     ]
    },
    {
     "data": {
      "text/html": [],
      "text/plain": [
       "<IPython.core.display.HTML object>"
      ]
     },
     "metadata": {},
     "output_type": "display_data"
    },
    {
     "data": {
      "text/html": [],
      "text/plain": [
       "<IPython.core.display.HTML object>"
      ]
     },
     "metadata": {},
     "output_type": "display_data"
    },
    {
     "name": "stdout",
     "output_type": "stream",
     "text": [
      "   Train loss  Valid loss  Accuracy\n",
      "4      0.2513      0.2997    0.8921\n"
     ]
    }
   ],
   "source": [
    "# steps = 5 * len(dls.train)\n",
    "# scheduler = LRScheduler(partial(CosineAnnealingLR, total_steps=steps))\n",
    "# model = get_model()\n",
    "# learn = BaseLearner(dls, model, cbs=cbs, scheduler=scheduler, opt_func=partial(optim.AdamW, weight_decay=0.1))\n",
    "# learn.fit(0.01, 5)"
   ]
  },
  {
   "cell_type": "code",
   "execution_count": null,
   "id": "fcc08738-492f-4375-a7ea-db31903ef8a9",
   "metadata": {},
   "outputs": [
    {
     "data": {
      "text/html": [],
      "text/plain": [
       "<IPython.core.display.HTML object>"
      ]
     },
     "metadata": {},
     "output_type": "display_data"
    },
    {
     "data": {
      "text/html": [],
      "text/plain": [
       "<IPython.core.display.HTML object>"
      ]
     },
     "metadata": {},
     "output_type": "display_data"
    },
    {
     "data": {
      "text/html": [],
      "text/plain": [
       "<IPython.core.display.HTML object>"
      ]
     },
     "metadata": {},
     "output_type": "display_data"
    },
    {
     "name": "stdout",
     "output_type": "stream",
     "text": [
      "   Train loss  Valid loss  Accuracy\n",
      "0      0.5781      0.4054    0.8551\n"
     ]
    },
    {
     "data": {
      "text/html": [],
      "text/plain": [
       "<IPython.core.display.HTML object>"
      ]
     },
     "metadata": {},
     "output_type": "display_data"
    },
    {
     "data": {
      "text/html": [],
      "text/plain": [
       "<IPython.core.display.HTML object>"
      ]
     },
     "metadata": {},
     "output_type": "display_data"
    },
    {
     "name": "stdout",
     "output_type": "stream",
     "text": [
      "   Train loss  Valid loss  Accuracy\n",
      "1      0.3487      0.3578     0.871\n"
     ]
    },
    {
     "data": {
      "text/html": [],
      "text/plain": [
       "<IPython.core.display.HTML object>"
      ]
     },
     "metadata": {},
     "output_type": "display_data"
    },
    {
     "data": {
      "text/html": [],
      "text/plain": [
       "<IPython.core.display.HTML object>"
      ]
     },
     "metadata": {},
     "output_type": "display_data"
    },
    {
     "name": "stdout",
     "output_type": "stream",
     "text": [
      "   Train loss  Valid loss  Accuracy\n",
      "2      0.3012      0.3262    0.8831\n"
     ]
    },
    {
     "data": {
      "text/html": [],
      "text/plain": [
       "<IPython.core.display.HTML object>"
      ]
     },
     "metadata": {},
     "output_type": "display_data"
    },
    {
     "data": {
      "text/html": [],
      "text/plain": [
       "<IPython.core.display.HTML object>"
      ]
     },
     "metadata": {},
     "output_type": "display_data"
    },
    {
     "name": "stdout",
     "output_type": "stream",
     "text": [
      "   Train loss  Valid loss  Accuracy\n",
      "3      0.2748      0.3154    0.8845\n"
     ]
    },
    {
     "data": {
      "text/html": [],
      "text/plain": [
       "<IPython.core.display.HTML object>"
      ]
     },
     "metadata": {},
     "output_type": "display_data"
    },
    {
     "data": {
      "text/html": [],
      "text/plain": [
       "<IPython.core.display.HTML object>"
      ]
     },
     "metadata": {},
     "output_type": "display_data"
    },
    {
     "name": "stdout",
     "output_type": "stream",
     "text": [
      "   Train loss  Valid loss  Accuracy\n",
      "4      0.2563      0.3038    0.8898\n"
     ]
    }
   ],
   "source": [
    "# steps = 5 * len(dls.train)\n",
    "# scheduler = LRScheduler(partial(lr_scheduler.CosineAnnealingLR, T_max=steps))\n",
    "# model = get_model()\n",
    "# learn = BaseLearner(dls, model, cbs=cbs, scheduler=scheduler, opt_func=partial(optim.AdamW, weight_decay=0.1))\n",
    "# learn.fit(0.01, 5)"
   ]
  },
  {
   "cell_type": "markdown",
   "id": "ca2bb0af-5124-4d7f-996f-663504d6d974",
   "metadata": {},
   "source": [
    "### 1Cycle policy\n",
    "\n",
    "Cosine annealing accounts for a reduced learning rate towards the end of training. However, when models are not perfectly initialised, it is likely that the first few steps will be suboptimal before the weights have had the chance to reach a reasonable level. To account for this, the 1Cycle policy includes a warmup schedule, in which the learning rate is increased from a initial value to a maximum value, followed by cosine annealing down to a level significantly lower than the initial value.\n",
    "\n",
    "Aside from the learning rate, the 1Cycle policy also cycles the momentum. The theory is that when the learning rate is low, i.e. at the beginning and end of the cycle, we should be less fervent about taking a step in that direction. When the learning rate is high, however, we want to take bigger steps. So, the momentum value is cycled such that when the learning rate is high, the momentum biases the update more towards the gradient of the current step. \n",
    "\n",
    "Typical values for cycling are a max of 0.9 and a min of 0.85. We can see the behaviour illustrated here:"
   ]
  },
  {
   "cell_type": "code",
   "execution_count": null,
   "id": "f1279d8e-b63a-4143-adbb-1f4f19e1058c",
   "metadata": {},
   "outputs": [
    {
     "name": "stderr",
     "output_type": "stream",
     "text": [
      "/Users/olly/opt/anaconda3/lib/python3.9/site-packages/torch/optim/lr_scheduler.py:1679: UserWarning: To get the last learning rate computed by the scheduler, please use `get_last_lr()`.\n",
      "  warnings.warn(\"To get the last learning rate computed by the scheduler, \"\n",
      "/Users/olly/opt/anaconda3/lib/python3.9/site-packages/torch/optim/lr_scheduler.py:138: UserWarning: Detected call of `lr_scheduler.step()` before `optimizer.step()`. In PyTorch 1.1.0 and later, you should call them in the opposite order: `optimizer.step()` before `lr_scheduler.step()`.  Failure to do this will result in PyTorch skipping the first value of the learning rate schedule. See more details at https://pytorch.org/docs/stable/optim.html#how-to-adjust-learning-rate\n",
      "  warnings.warn(\"Detected call of `lr_scheduler.step()` before `optimizer.step()`. \"\n"
     ]
    },
    {
     "data": {
      "image/png": "[encoded data removed]",
      "text/plain": [
       "<Figure size 1200x400 with 2 Axes>"
      ]
     },
     "metadata": {},
     "output_type": "display_data"
    }
   ],
   "source": [
    "sched = lr_scheduler.OneCycleLR(learn.opt, 1, epochs=1, steps_per_epoch=len(learn.dls.train))\n",
    "lr_lst, mom_lst = [], []\n",
    "for i in range(len(learn.dls.train)):\n",
    "    lr_lst.append(sched.get_lr())\n",
    "    mom_lst.append( learn.opt.param_groups[0]['betas'][0] )\n",
    "    sched.step()\n",
    "\n",
    "fig, ax = plt.subplots(1, 2, figsize=(12, 4))\n",
    "for i in 0,1:\n",
    "    ax[i].plot(lr_lst if i == 0 else mom_lst)\n",
    "    ax[i].set_title(\"Learning rates\" if i == 0 else \"Momentum\")"
   ]
  },
  {
   "cell_type": "markdown",
   "id": "c337412e-f748-4d7f-9190-8b54d1d0aa82",
   "metadata": {},
   "source": [
    "Test code:"
   ]
  },
  {
   "cell_type": "code",
   "execution_count": null,
   "id": "6c614bed-6748-4184-9608-e5b254a1c5e3",
   "metadata": {},
   "outputs": [
    {
     "data": {
      "text/plain": [
       "[<matplotlib.lines.Line2D>]"
      ]
     },
     "execution_count": null,
     "metadata": {},
     "output_type": "execute_result"
    },
    {
     "data": {
      "image/png": "[encoded data removed]",
      "text/plain": [
       "<Figure size 640x480 with 1 Axes>"
      ]
     },
     "metadata": {},
     "output_type": "display_data"
    }
   ],
   "source": [
    "eta_initial = 0.05\n",
    "eta_max = 1\n",
    "phase_ratio = 0.3\n",
    "eta_end = eta_initial / 1e4\n",
    "T_max = len(learn.dls.train)\n",
    "\n",
    "lrs = []\n",
    "for i in range(1, T_max):\n",
    "    if i <= int(T_max*phase_ratio):\n",
    "        lrs.append(eta_max + (0.5*(eta_initial-eta_max) * (1 + math.cos((i / (T_max*phase_ratio)) * math.pi))))\n",
    "    else:\n",
    "        lrs.append(eta_end + (0.5*(eta_max-eta_end) * (1 + math.cos(((i-int(T_max*phase_ratio)) / (T_max*(1-phase_ratio))) * math.pi))))\n",
    "plt.plot(lrs)"
   ]
  },
  {
   "cell_type": "code",
   "execution_count": null,
   "id": "397316dd-ffef-439f-aba8-c2b114878cea",
   "metadata": {},
   "outputs": [],
   "source": [
    "class OneCycle:\n",
    "    def __init__(self, optimiser, total_steps, max_mom=0.95, min_mom=0.85, phase_ratio=0.3, div=25, final_div=1e4):\n",
    "        fc.store_attr()\n",
    "        self.max_lr = self.optimiser.param_groups[0]['lr']\n",
    "        self.initial_lr = self.max_lr / div\n",
    "        self.end_lr = self.initial_lr / final_div\n",
    "        self.current_step = 0\n",
    "    \n",
    "    def step(self):\n",
    "        for group in self.optimiser.param_groups:\n",
    "            beta1, beta2 = group['betas']\n",
    "            group['lr'] = self.get_lr()\n",
    "            group['betas'] = (self.get_mom(), beta2)\n",
    "        self.current_step += 1\n",
    "    \n",
    "    def get_mom(self):\n",
    "        if self.current_step <= int(self.total_steps*self.phase_ratio):\n",
    "            mmin, mmax, tm, it, pr = self.min_mom, self.max_mom, self.total_steps, self.current_step, self.phase_ratio\n",
    "            return mmin + (0.5*(mmax-mmin) * (1 + math.cos((it / (tm*pr)) * math.pi)))\n",
    "        else:\n",
    "            mmin, mmax, tm, it, pr = self.min_mom, self.max_mom, self.total_steps, self.current_step, self.phase_ratio\n",
    "            return mmax + (0.5*(mmin-mmax) * (1 + math.cos(((it-int(tm*pr)) / (tm*(1-pr))) * math.pi)))\n",
    "    \n",
    "    def get_lr(self):\n",
    "        if self.current_step <= int(self.total_steps*self.phase_ratio):\n",
    "            ei, em, ef, tm, it, pr = self.initial_lr, self.max_lr, self.end_lr, self.total_steps, self.current_step, self.phase_ratio\n",
    "            return em + (0.5*(ei-em) * (1 + math.cos((it / (tm*pr)) * math.pi)))\n",
    "        else:\n",
    "            ei, em, ef, tm, it, pr = self.initial_lr, self.max_lr, self.end_lr, self.total_steps, self.current_step, self.phase_ratio\n",
    "            return ef + (0.5*(em-ef) * (1 + math.cos(((it-int(tm*pr)) / (tm*(1-pr))) * math.pi)))"
   ]
  },
  {
   "cell_type": "code",
   "execution_count": null,
   "id": "6495bca0-b473-40f8-ae06-eae249e598d5",
   "metadata": {},
   "outputs": [],
   "source": [
    "# set_seed(42)\n",
    "# steps = 5 * len(dls.train)\n",
    "# model = get_model()\n",
    "# learn = BaseLearner(dls, model, cbs=cbs, scheduler=None, opt_func=partial(optim.AdamW, weight_decay=0.1))\n",
    "# learn.fit(0.01, 5)"
   ]
  },
  {
   "cell_type": "code",
   "execution_count": null,
   "id": "4355e18d-b44f-45ab-88e1-cba5e877446d",
   "metadata": {},
   "outputs": [],
   "source": [
    "# set_seed(42)\n",
    "# steps = 5 * len(dls.train)\n",
    "# scheduler = LRScheduler(partial(OneCycle, total_steps=steps))\n",
    "# model = get_model()\n",
    "# learn = BaseLearner(dls, model, cbs=cbs, scheduler=scheduler, opt_func=partial(optim.AdamW, weight_decay=0.1))\n",
    "# learn.fit(0.01, 5)"
   ]
  },
  {
   "cell_type": "code",
   "execution_count": null,
   "id": "37be1556-0062-40b2-8bda-07c2bc8702bd",
   "metadata": {},
   "outputs": [],
   "source": [
    "# set_seed(42)\n",
    "# steps = 5 * len(dls.train)\n",
    "# lr, epochs = 0.2, 5\n",
    "# scheduler = LRScheduler(partial(lr_scheduler.OneCycleLR, max_lr=lr, total_steps=steps))\n",
    "# model = get_model()\n",
    "# learn = BaseLearner(dls, model, cbs=cbs, scheduler=scheduler, opt_func=partial(optim.AdamW, weight_decay=0.1))\n",
    "# learn.fit(lr, epochs)"
   ]
  },
  {
   "cell_type": "code",
   "execution_count": null,
   "id": "a5886921-c2c2-4315-9bb7-28c6b5d09713",
   "metadata": {},
   "outputs": [],
   "source": [
    "#| hide\n",
    "import nbdev; nbdev.nbdev_export()"
   ]
  },
  {
   "cell_type": "code",
   "execution_count": null,
   "id": "da05e159-c79e-4870-8b48-98f3d48c9a15",
   "metadata": {},
   "outputs": [],
   "source": []
  }
 ],
 "metadata": {
  "kernelspec": {
   "display_name": "Python 3 (ipykernel)",
   "language": "python",
   "name": "python3"
  }
 },
 "nbformat": 4,
 "nbformat_minor": 5
}
