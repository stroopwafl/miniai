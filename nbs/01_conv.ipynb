{
 "cells": [
  {
   "cell_type": "code",
   "execution_count": null,
   "id": "fb744105-3123-45d4-9501-0f7d6676d678",
   "metadata": {},
   "outputs": [],
   "source": [
    "#| default_exp conv"
   ]
  },
  {
   "cell_type": "code",
   "execution_count": null,
   "id": "5502942c-e8d6-4e9c-9dec-99d9b69ba5b4",
   "metadata": {},
   "outputs": [],
   "source": [
    "#| export\n",
    "from torch import nn"
   ]
  },
  {
   "cell_type": "code",
   "execution_count": null,
   "id": "40c9a344-6c13-47a9-9c2d-4e2a2c331d3c",
   "metadata": {},
   "outputs": [],
   "source": [
    "#| hide\n",
    "from nbdev.showdoc import *"
   ]
  },
  {
   "cell_type": "markdown",
   "id": "61d53b8c-6c9b-4121-9f66-8dd470078b0a",
   "metadata": {},
   "source": [
    "## Core"
   ]
  },
  {
   "cell_type": "code",
   "execution_count": null,
   "id": "eac2a070-65ff-4975-81e9-cf91e2376c23",
   "metadata": {},
   "outputs": [],
   "source": [
    "#| export\n",
    "class ConvNormAct(nn.Sequential):\n",
    "    def __init__(\n",
    "        self,\n",
    "        in_channels,\n",
    "        out_channels,\n",
    "        kernel_size=3,\n",
    "        bias=True,\n",
    "        stride=2,\n",
    "        act=True\n",
    "    ):\n",
    "        super().__init__(\n",
    "            nn.Conv2d(in_channels, out_channels, kernel_size=kernel_size, stride=stride, padding=kernel_size//2, bias=bias),\n",
    "            nn.BatchNorm2d(out_channels),\n",
    "            nn.ReLU() if act else None\n",
    "        )"
   ]
  },
  {
   "cell_type": "markdown",
   "id": "887012cc-2a86-45cd-a7c6-f12ace22c4bc",
   "metadata": {},
   "source": [
    "## Resnet"
   ]
  },
  {
   "cell_type": "code",
   "execution_count": null,
   "id": "ef14911d-6f3d-4cef-8bdd-5e38620f28e8",
   "metadata": {},
   "outputs": [],
   "source": [
    "#| export\n",
    "class ResnetStem():\n",
    "    def __init__(\n",
    "        self,\n",
    "        stem_sizes\n",
    "    ):\n",
    "        self.conv1 = nn.Sequential(\n",
    "            [\n",
    "                ConvNormAct(\n",
    "                    in_channels=stem_sizes[i],\n",
    "                    out_channels=stem_sizes[i+1],\n",
    "                    kernel_size=3,\n",
    "                    stride=2 if i==0 else 1\n",
    "                )\n",
    "            for i in stem_sizes\n",
    "            ]\n",
    "        )\n",
    "            \n",
    "        super().init(\n",
    "            ConvNormAct(in_channels, out_channels, kernel_size=kernel_size, stride=stride),\n",
    "            nn.MaxPool2d(kernel_size=3, stride=2, padding=1)\n",
    "        )"
   ]
  },
  {
   "cell_type": "code",
   "execution_count": null,
   "id": "95d78a09-788f-4eac-912a-e821dbbc2439",
   "metadata": {},
   "outputs": [],
   "source": [
    "#| export\n",
    "class BottleneckBlock(nn.Module):\n",
    "    def __init__(\n",
    "        self,\n",
    "        in_channels,\n",
    "        out_channels,\n",
    "        reduction=4,\n",
    "        stride=1\n",
    "    ):\n",
    "        \n",
    "        reduced_features = out_channels // reduction\n",
    "        \n",
    "        self.block = nn.Sequential(\n",
    "            ConvNormAct(in_channels, reduced_features, kernel_size=1, stride=stride), # <----- including stride enables us to stride on this layer\n",
    "            ConvNormAct(reduced_features, reduced_features, kernel_size=3),\n",
    "            ConvNormAct(reduced_features, out_channels, kernel_size=1)\n",
    "        )\n",
    "        \n",
    "    def forward(self, x):\n",
    "        x = self.block(x)\n",
    "        return x"
   ]
  },
  {
   "cell_type": "code",
   "execution_count": null,
   "id": "8261155c-d2e0-4632-bfa5-a811fb6b6c6b",
   "metadata": {},
   "outputs": [],
   "source": [
    "#| export\n",
    "class BottleneckBlock(nn.Module):\n",
    "    def __init__(\n",
    "        self,\n",
    "        in_channels,\n",
    "        out_channels,\n",
    "        reduction=4,\n",
    "        stride=1\n",
    "    ):\n",
    "        \n",
    "        reduced_features = out_channels // reduction\n",
    "        \n",
    "        self.block = nn.Sequential(\n",
    "            ConvNormAct(in_channels, reduced_features, kernel_size=1, stride=stride), # <----- including stride enables us to stride on this layer\n",
    "            ConvNormAct(reduced_features, reduced_features, kernel_size=3),\n",
    "            ConvNormAct(reduced_features, out_channels, kernel_size=1)\n",
    "        )\n",
    "        \n",
    "        self.shortcut = (\n",
    "            nn.Sequential(\n",
    "                ConvNormAct(in_channels, out_channels, kernel_size=1)\n",
    "            ) if in_channels != out_channels else nn.Identity()\n",
    "        )\n",
    "        \n",
    "        self.pool = (\n",
    "            nn.AvgPool2d(kernel_size=3, stride=stride, padding=1) \n",
    "            if stride != 1 else nn.Identity()\n",
    "        )\n",
    "        \n",
    "    def forward(self, x):\n",
    "        residual = x\n",
    "        x = self.block(x)\n",
    "        residual = self.shortcut(self.pool(residual))\n",
    "        x += residual\n",
    "        return x"
   ]
  },
  {
   "cell_type": "code",
   "execution_count": null,
   "id": "35231b8b-4255-45ab-ab55-c505aa6aa750",
   "metadata": {},
   "outputs": [],
   "source": [
    "#| export\n",
    "class ResnetStage(nn.Sequential):\n",
    "    def __init__(\n",
    "        self,\n",
    "        in_channels,\n",
    "        out_channels,\n",
    "        depth,\n",
    "        stride=2\n",
    "    ):\n",
    "        super().__init__(\n",
    "            BottleneckBlock(in_channels, out_channels, stride=2),\n",
    "            *[\n",
    "                BottleneckBlock(out_channels, out_channels)\n",
    "                for i in range(depth - 1)\n",
    "            ]\n",
    "        )"
   ]
  },
  {
   "cell_type": "code",
   "execution_count": null,
   "id": "e088d87c-c712-4356-bf89-8eebca1ddd4f",
   "metadata": {},
   "outputs": [],
   "source": [
    "#| export\n",
    "class ResnetNN(nn.Module):\n",
    "    def __init__(\n",
    "        self,\n",
    "        img_channels,\n",
    "        stem_sizes,\n",
    "        widths,\n",
    "        depths,\n",
    "        num_classes\n",
    "    ):\n",
    "        stem_sizes = [img_channels, *stem_sizes]\n",
    "        self.stem = ResnetStem(stem_sizes)\n",
    "        \n",
    "        self.stages = nn.ModuleList(\n",
    "            [\n",
    "                ResnetStage(stem_sizes[-1], widths[0], depths[0], stride=1),\n",
    "                *[\n",
    "                    ResnetStage(widths[i], widths[i+1], depths[i+1])\n",
    "                    for i in widths\n",
    "                ]\n",
    "            ]   \n",
    "        )\n",
    "        \n",
    "        self.avgpool = nn.AdaptiveAvgPool2d((1, 1))\n",
    "        self.fc = nn.Linear(widths[-1], num_classes)\n",
    "        \n",
    "    def forward(self, x):\n",
    "        x = self.stem(x)\n",
    "        for stage in self.stages:\n",
    "            x = stage(x)\n",
    "        x = self.avgpool(x)\n",
    "        x = torch.flatten(x, 1)\n",
    "        x = self.fc(x)\n",
    "        return x"
   ]
  },
  {
   "cell_type": "markdown",
   "id": "8705c112-0dc1-4fde-8572-8523c2953e63",
   "metadata": {},
   "source": [
    "## Export"
   ]
  },
  {
   "cell_type": "code",
   "execution_count": null,
   "id": "77a661d5-c8b7-4dc4-8e1d-f250769530f9",
   "metadata": {},
   "outputs": [],
   "source": [
    "import miniai"
   ]
  },
  {
   "cell_type": "code",
   "execution_count": null,
   "id": "6d16a1c3-4bae-480e-9ce5-b21bc8d8a844",
   "metadata": {},
   "outputs": [
    {
     "data": {
      "text/plain": [
       "<module 'miniai' (namespace)>"
      ]
     },
     "execution_count": null,
     "metadata": {},
     "output_type": "execute_result"
    }
   ],
   "source": [
    "miniai"
   ]
  },
  {
   "cell_type": "code",
   "execution_count": null,
   "id": "1ea5d5ee-7484-474f-b222-768d229bae0f",
   "metadata": {},
   "outputs": [
    {
     "ename": "ModuleNotFoundError",
     "evalue": "No module named 'miniai.learner'",
     "output_type": "error",
     "traceback": [
      "\u001b[0;31m---------------------------------------------------------------------------\u001b[0m",
      "\u001b[0;31mModuleNotFoundError\u001b[0m                       Traceback (most recent call last)",
      "\u001b[0;32m/var/folders/j6/574d01vs0jbdkcvby42tj1v80000gn/T/ipykernel_51935/373995518.py\u001b[0m in \u001b[0;36m<module>\u001b[0;34m\u001b[0m\n\u001b[0;32m----> 1\u001b[0;31m \u001b[0;32mfrom\u001b[0m \u001b[0mminiai\u001b[0m\u001b[0;34m.\u001b[0m\u001b[0mlearner\u001b[0m \u001b[0;32mimport\u001b[0m \u001b[0;34m*\u001b[0m\u001b[0;34m\u001b[0m\u001b[0;34m\u001b[0m\u001b[0m\n\u001b[0m",
      "\u001b[0;31mModuleNotFoundError\u001b[0m: No module named 'miniai.learner'"
     ]
    }
   ],
   "source": [
    "from miniai.learner import *"
   ]
  },
  {
   "cell_type": "code",
   "execution_count": null,
   "id": "249f6535-5353-4025-9225-c01f8bbb0633",
   "metadata": {},
   "outputs": [],
   "source": []
  }
 ],
 "metadata": {
  "kernelspec": {
   "display_name": "Python 3 (ipykernel)",
   "language": "python",
   "name": "python3"
  }
 },
 "nbformat": 4,
 "nbformat_minor": 5
}
